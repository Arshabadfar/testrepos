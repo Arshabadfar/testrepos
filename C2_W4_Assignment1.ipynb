{
 "cells": [
  {
   "cell_type": "markdown",
   "id": "c677a820-724c-4d8e-9229-f72a134f065b",
   "metadata": {
    "tags": []
   },
   "source": [
    "# My Jupyter Notebook on IBM Watson Studio"
   ]
  },
  {
   "cell_type": "markdown",
   "id": "c3181d79-2281-4550-b654-29fd872992c7",
   "metadata": {},
   "source": [
    "**Arshad Badfar**\n",
    "To be Data Scientist "
   ]
  },
  {
   "cell_type": "markdown",
   "id": "417fccd0-0ba5-462a-9765-b396f2776996",
   "metadata": {},
   "source": [
    "*Passionate about data scientist since you can indulge yourself in an endless cycle of analysis, and if you come to a conclusion you probably get paid for it.*"
   ]
  },
  {
   "cell_type": "markdown",
   "id": "36458a5b-385d-42c0-a037-8fa122c418da",
   "metadata": {
    "tags": []
   },
   "source": [
    "### To calculate 1+1 "
   ]
  },
  {
   "cell_type": "code",
   "execution_count": 2,
   "id": "68b8c337-95a5-4d33-a931-8e938fe4bf95",
   "metadata": {},
   "outputs": [
    {
     "data": {
      "text/plain": [
       "2"
      ]
     },
     "execution_count": 2,
     "metadata": {},
     "output_type": "execute_result"
    }
   ],
   "source": [
    "1+1"
   ]
  },
  {
   "cell_type": "markdown",
   "id": "248d3f3f-de2e-4609-9dfd-44342bdb40a8",
   "metadata": {},
   "source": [
    "___\n",
    "|Column 1| Column 2|\n",
    "|---|---|\n",
    "|~~This is an in-line code:~~ | `print(\"Hello World!\")` |\n",
    "|**Hello** | *World!* |\n",
    "> Quoting! Quoting! Quoting! Quoting! "
   ]
  },
  {
   "cell_type": "code",
   "execution_count": null,
   "id": "3ea17140-1bea-4810-b657-4041edb08af9",
   "metadata": {},
   "outputs": [],
   "source": []
  }
 ],
 "metadata": {
  "kernelspec": {
   "display_name": "Python",
   "language": "python",
   "name": "conda-env-python-py"
  },
  "language_info": {
   "codemirror_mode": {
    "name": "ipython",
    "version": 3
   },
   "file_extension": ".py",
   "mimetype": "text/x-python",
   "name": "python",
   "nbconvert_exporter": "python",
   "pygments_lexer": "ipython3",
   "version": "3.7.12"
  }
 },
 "nbformat": 4,
 "nbformat_minor": 5
}
